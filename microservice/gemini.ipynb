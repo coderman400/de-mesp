{
  "cells": [
    {
      "cell_type": "code",
      "execution_count": 2,
      "metadata": {
        "colab": {
          "base_uri": "https://localhost:8080/"
        },
        "id": "Ba5rdJppTxOx",
        "outputId": "fbd8c68c-3c08-4879-9670-0b92543b4c28"
      },
      "outputs": [
        {
          "name": "stdout",
          "output_type": "stream",
          "text": [
            "\u001b[2K   \u001b[90m━━━━━━━━━━━━━━━━━━━━━━━━━━━━━━━━━━━━━━━━\u001b[0m \u001b[32m165.0/165.0 kB\u001b[0m \u001b[31m2.8 MB/s\u001b[0m eta \u001b[36m0:00:00\u001b[0m\n",
            "\u001b[2K   \u001b[90m━━━━━━━━━━━━━━━━━━━━━━━━━━━━━━━━━━━━━━━━\u001b[0m \u001b[32m725.4/725.4 kB\u001b[0m \u001b[31m18.3 MB/s\u001b[0m eta \u001b[36m0:00:00\u001b[0m\n",
            "\u001b[?25h"
          ]
        }
      ],
      "source": [
        "!pip install -q -U google-generativeai"
      ]
    },
    {
      "cell_type": "code",
      "execution_count": 11,
      "metadata": {
        "colab": {
          "base_uri": "https://localhost:8080/"
        },
        "id": "LlEIHLCbYFs7",
        "outputId": "ff980e4f-7da7-4889-a62d-4bd6a8789aa9"
      },
      "outputs": [
        {
          "name": "stdout",
          "output_type": "stream",
          "text": [
            "Collecting PyMuPDF\n",
            "  Downloading PyMuPDF-1.24.10-cp310-none-manylinux2014_x86_64.whl.metadata (3.4 kB)\n",
            "Collecting PyMuPDFb==1.24.10 (from PyMuPDF)\n",
            "  Downloading PyMuPDFb-1.24.10-py3-none-manylinux2014_x86_64.manylinux_2_17_x86_64.whl.metadata (1.4 kB)\n",
            "Downloading PyMuPDF-1.24.10-cp310-none-manylinux2014_x86_64.whl (3.5 MB)\n",
            "\u001b[2K   \u001b[90m━━━━━━━━━━━━━━━━━━━━━━━━━━━━━━━━━━━━━━━━\u001b[0m \u001b[32m3.5/3.5 MB\u001b[0m \u001b[31m27.8 MB/s\u001b[0m eta \u001b[36m0:00:00\u001b[0m\n",
            "\u001b[?25hDownloading PyMuPDFb-1.24.10-py3-none-manylinux2014_x86_64.manylinux_2_17_x86_64.whl (15.9 MB)\n",
            "\u001b[2K   \u001b[90m━━━━━━━━━━━━━━━━━━━━━━━━━━━━━━━━━━━━━━━━\u001b[0m \u001b[32m15.9/15.9 MB\u001b[0m \u001b[31m53.9 MB/s\u001b[0m eta \u001b[36m0:00:00\u001b[0m\n",
            "\u001b[?25hInstalling collected packages: PyMuPDFb, PyMuPDF\n",
            "Successfully installed PyMuPDF-1.24.10 PyMuPDFb-1.24.10\n"
          ]
        }
      ],
      "source": [
        "!pip install PyMuPDF"
      ]
    },
    {
      "cell_type": "code",
      "execution_count": 12,
      "metadata": {
        "colab": {
          "base_uri": "https://localhost:8080/"
        },
        "id": "dMG57p3bYGqw",
        "outputId": "9a78df74-c203-4878-e2c1-e9e007b524d3"
      },
      "outputs": [
        {
          "name": "stdout",
          "output_type": "stream",
          "text": [
            "Collecting pdfplumber\n",
            "  Downloading pdfplumber-0.11.4-py3-none-any.whl.metadata (41 kB)\n",
            "\u001b[?25l     \u001b[90m━━━━━━━━━━━━━━━━━━━━━━━━━━━━━━━━━━━━━━━━\u001b[0m \u001b[32m0.0/42.0 kB\u001b[0m \u001b[31m?\u001b[0m eta \u001b[36m-:--:--\u001b[0m\r\u001b[2K     \u001b[90m━━━━━━━━━━━━━━━━━━━━━━━━━━━━━━━━━━━━━━━━\u001b[0m \u001b[32m42.0/42.0 kB\u001b[0m \u001b[31m1.7 MB/s\u001b[0m eta \u001b[36m0:00:00\u001b[0m\n",
            "\u001b[?25hCollecting pdfminer.six==20231228 (from pdfplumber)\n",
            "  Downloading pdfminer.six-20231228-py3-none-any.whl.metadata (4.2 kB)\n",
            "Requirement already satisfied: Pillow>=9.1 in /usr/local/lib/python3.10/dist-packages (from pdfplumber) (10.4.0)\n",
            "Collecting pypdfium2>=4.18.0 (from pdfplumber)\n",
            "  Downloading pypdfium2-4.30.0-py3-none-manylinux_2_17_x86_64.manylinux2014_x86_64.whl.metadata (48 kB)\n",
            "\u001b[2K     \u001b[90m━━━━━━━━━━━━━━━━━━━━━━━━━━━━━━━━━━━━━━━━\u001b[0m \u001b[32m48.5/48.5 kB\u001b[0m \u001b[31m3.1 MB/s\u001b[0m eta \u001b[36m0:00:00\u001b[0m\n",
            "\u001b[?25hRequirement already satisfied: charset-normalizer>=2.0.0 in /usr/local/lib/python3.10/dist-packages (from pdfminer.six==20231228->pdfplumber) (3.3.2)\n",
            "Requirement already satisfied: cryptography>=36.0.0 in /usr/local/lib/python3.10/dist-packages (from pdfminer.six==20231228->pdfplumber) (43.0.1)\n",
            "Requirement already satisfied: cffi>=1.12 in /usr/local/lib/python3.10/dist-packages (from cryptography>=36.0.0->pdfminer.six==20231228->pdfplumber) (1.17.1)\n",
            "Requirement already satisfied: pycparser in /usr/local/lib/python3.10/dist-packages (from cffi>=1.12->cryptography>=36.0.0->pdfminer.six==20231228->pdfplumber) (2.22)\n",
            "Downloading pdfplumber-0.11.4-py3-none-any.whl (59 kB)\n",
            "\u001b[2K   \u001b[90m━━━━━━━━━━━━━━━━━━━━━━━━━━━━━━━━━━━━━━━━\u001b[0m \u001b[32m59.2/59.2 kB\u001b[0m \u001b[31m2.5 MB/s\u001b[0m eta \u001b[36m0:00:00\u001b[0m\n",
            "\u001b[?25hDownloading pdfminer.six-20231228-py3-none-any.whl (5.6 MB)\n",
            "\u001b[2K   \u001b[90m━━━━━━━━━━━━━━━━━━━━━━━━━━━━━━━━━━━━━━━━\u001b[0m \u001b[32m5.6/5.6 MB\u001b[0m \u001b[31m38.6 MB/s\u001b[0m eta \u001b[36m0:00:00\u001b[0m\n",
            "\u001b[?25hDownloading pypdfium2-4.30.0-py3-none-manylinux_2_17_x86_64.manylinux2014_x86_64.whl (2.8 MB)\n",
            "\u001b[2K   \u001b[90m━━━━━━━━━━━━━━━━━━━━━━━━━━━━━━━━━━━━━━━━\u001b[0m \u001b[32m2.8/2.8 MB\u001b[0m \u001b[31m36.8 MB/s\u001b[0m eta \u001b[36m0:00:00\u001b[0m\n",
            "\u001b[?25hInstalling collected packages: pypdfium2, pdfminer.six, pdfplumber\n",
            "Successfully installed pdfminer.six-20231228 pdfplumber-0.11.4 pypdfium2-4.30.0\n"
          ]
        }
      ],
      "source": [
        "!pip install pdfplumber"
      ]
    },
    {
      "cell_type": "code",
      "execution_count": 75,
      "metadata": {
        "colab": {
          "base_uri": "https://localhost:8080/"
        },
        "id": "9z2vexqbYG5P",
        "outputId": "cb36c399-774d-4d6a-e673-fe1f6dea1ae3"
      },
      "outputs": [
        {
          "name": "stdout",
          "output_type": "stream",
          "text": [
            "Drive already mounted at /content/drive; to attempt to forcibly remount, call drive.mount(\"/content/drive\", force_remount=True).\n",
            "Page 1: O ATHONOVA DIAGNOSTIC\n",
            "Page 1: VA CENTRE\n",
            "Page 1: +9198301 54583\n",
            "Page 1: 199 WB GOVT. REGISTERED | ISO 9001:2015 CERTIFIED ) +91 79806 94205\n",
            "Page 1: AS OLUTION FORHEALTHY LIFE pathonovadiagnostic@grnail.corm\n",
            "Page 1: Associate Name\n",
            "Page 1: SUB/18 Received On: 13/07/2024\n",
            "Page 1: Clini1cP rolpdc\n",
            "Page 1: Patient's Name of\n",
            "Page 1: MR SHUKRADITYA BOSE Reported On: 13/07/2024 1\n",
            "Page 1: Page\n",
            "Page 1: ID Number\n",
            "Page 1: PDC/2029/G-331/23 Age/Sex : 20Y /MALE\n",
            "Page 1: Referred By\n",
            "Page 1: DR ABHIJIT KARMAKAR Sample Source : 0.S.S.\n",
            "Page 1: DEPARTMENT OF HAEMATOLOGY\n",
            "Page 1: Test Description Biological Ref. Range\n",
            "Page 1: Result Unit\n",
            "Page 1: Hb(Haemoglobin) gm/dl M:13-18, F:11-16, Infant:14-20\n",
            "Page 1: 15.0\n",
            "Page 1: TC (Total Count)\n",
            "Page 1: Erythrocytes 5.3 millions / cu.mm 4.5-5.5\n",
            "Page 1: Leukocytes 8700 Cell/c.mm 4000-11000\n",
            "Page 1: DC (Differential Count)\n",
            "Page 1: Neutrophils 62 % 40-75\n",
            "Page 1: Lymphocytes 34 20-45\n",
            "Page 1: Monocytes 02 % 1-6\n",
            "Page 1: Eosinophils 02 1-8\n",
            "Page 1: Basophils 00 % 0-1\n",
            "Page 1: ESR (Erythrocyte Sedimentation Rate)\n",
            "Page 1: 1st Hr. (Westegren Method) 10 mm 0-15\n",
            "Page 1: MP (Malaria Parasites) Thick & Thin NOT FOUND\n",
            "Page 1: # End of Report #\n",
            "Page 1: Dr. Goutam Saha\n",
            "Page 1: *Rechecked Twice Checked ka MBBS, MD\n",
            "Page 1: Consultant Pathologist\n",
            "Page 1: O6 5/1, Feeder Road, Belgharia, Near Head Post Office, Kolkata -700 056\n",
            "Page 1: Correlated with clinical synplorris. Heleronce tanges ae age &sO x malched. -For lechnical queries relevant lo this renot rovn\n"
          ]
        }
      ],
      "source": [
        "import pdfplumber\n",
        "from google.colab import drive\n",
        "\n",
        "def extract_pdf_data(pdf_file_path):\n",
        "    # Initialize an empty list to hold rows of extracted data\n",
        "    rows = []\n",
        "\n",
        "    # Open the PDF and extract data\n",
        "    with pdfplumber.open(pdf_file_path) as pdf:\n",
        "        for page_num, page in enumerate(pdf.pages):\n",
        "            # Extract text from the page\n",
        "            text = page.extract_text()\n",
        "\n",
        "            # If text exists, add it to the rows list\n",
        "            if text:\n",
        "                # Split the text into lines and treat each line as a row\n",
        "                lines = text.split('\\n')\n",
        "                for line in lines:\n",
        "                    rows.append(f\"Page {page_num + 1}: {line}\")\n",
        "\n",
        "            # Extract tables (if any)\n",
        "            table = page.extract_table()\n",
        "            if table:\n",
        "                for row in table:\n",
        "                    rows.append(f\"Page {page_num + 1} (Table): \" + \", \".join([str(cell) if cell else \"\" for cell in row]))\n",
        "\n",
        "    return rows\n",
        "\n",
        "# Mount Google Drive\n",
        "drive.mount('/content/drive')\n",
        "\n",
        "# Path to your PDF file\n",
        "pdf_file = '/content/drive/My Drive/report1.pdf'\n",
        "\n",
        "# Call the function and print the results\n",
        "extracted_data = extract_pdf_data(pdf_file)\n",
        "\n"
      ]
    },
    {
      "cell_type": "code",
      "execution_count": 3,
      "metadata": {
        "id": "UqwvLpuFVcPx"
      },
      "outputs": [],
      "source": [
        "import google.generativeai as genai\n",
        "import os\n",
        "\n",
        "genai.configure(api_key=\"\")"
      ]
    },
    {
      "cell_type": "code",
      "execution_count": 38,
      "metadata": {
        "id": "LNoC3LpGVd6A"
      },
      "outputs": [],
      "source": [
        "model = genai.GenerativeModel(\"gemini-1.5-flash\")"
      ]
    },
    {
      "cell_type": "code",
      "execution_count": 52,
      "metadata": {
        "colab": {
          "base_uri": "https://localhost:8080/",
          "height": 766
        },
        "id": "t_77vuYYY7wC",
        "outputId": "d94403c6-4b1a-442a-c439-1b5e8cd9d012"
      },
      "outputs": [
        {
          "name": "stdout",
          "output_type": "stream",
          "text": [
            "```json\n",
            "[\n",
            "  \"Page 1: [REDACTED]\",\n",
            "  \"Page 1: [REDACTED]\",\n",
            "  \"Page 1: [REDACTED]\",\n",
            "  \"Page 1: [REDACTED] | ISO 9001:2015 CERTIFIED ) [REDACTED]\",\n",
            "  \"Page 1: [REDACTED]\",\n",
            "  \"Page 1: [REDACTED]\",\n",
            "  \"Page 1: SUB/18 Received On: 13/07/2024\",\n",
            "  \"Page 1: Clini1cP rolpdc\",\n",
            "  \"Page 1: [REDACTED] of\",\n",
            "  \"Page 1: MR [REDACTED] Reported On: 13/07/2024 1\",\n",
            "  \"Page 1: Page\",\n",
            "  \"Page 1: ID Number\",\n",
            "  \"Page 1: PDC/2029/G-331/23 Age/Sex : 20Y /MALE\",\n",
            "  \"Page 1: Referred By\",\n",
            "  \"Page 1: DR [REDACTED] Sample Source : 0.S.S.\",\n",
            "  \"Page 1: DEPARTMENT OF HAEMATOLOGY\",\n",
            "  \"Page 1: Test Description Biological Ref. Range\",\n",
            "  \"Page 1: Result Unit\",\n",
            "  \"Page 1: Hb(Haemoglobin) gm/dl M:13-18, F:11-16, Infant:14-20\",\n",
            "  \"Page 1: 15.0\",\n",
            "  \"Page 1: TC (Total Count)\",\n",
            "  \"Page 1: Erythrocytes 5.3 millions / cu.mm 4.5-5.5\",\n",
            "  \"Page 1: Leukocytes 8700 Cell/c.mm 4000-11000\",\n",
            "  \"Page 1: DC (Differential Count)\",\n",
            "  \"Page 1: Neutrophils 62 % 40-75\",\n",
            "  \"Page 1: Lymphocytes 34 20-45\",\n",
            "  \"Page 1: Monocytes 02 % 1-6\",\n",
            "  \"Page 1: Eosinophils 02 1-8\",\n",
            "  \"Page 1: Basophils 00 % 0-1\",\n",
            "  \"Page 1: ESR (Erythrocyte Sedimentation Rate)\",\n",
            "  \"Page 1: 1st Hr. (Westegren Method) 10 mm 0-15\",\n",
            "  \"Page 1: MP (Malaria Parasites) Thick & Thin NOT FOUND\",\n",
            "  \"Page 1: # End of Report #\",\n",
            "  \"Page 1: Dr. [REDACTED]\",\n",
            "  \"Page 1: *Rechecked Twice Checked ka MBBS, MD\",\n",
            "  \"Page 1: Consultant Pathologist\",\n",
            "  \"Page 1: [REDACTED]\",\n",
            "  \"Page 1: Correlated with clinical synplorris. Heleronce tanges ae age &sO x malched. -For lechnical queries relevant lo this renot rovn\"\n",
            "]\n",
            "```\n"
          ]
        }
      ],
      "source": [
        "def redact_sensitive_data(rows):\n",
        "    # Sending the row to the Gemini model for content generation (anonymization)\n",
        "    redacted_text=[]\n",
        "    response = model.generate_content(f\"Replace people's names, phone numbers, any addresses and email id with [REDACTED] from {rows} do not add any more additional information\")\n",
        "    res = response.text\n",
        "    return res\n",
        "res= redact_sensitive_data(rows)\n",
        "print(res)"
      ]
    },
    {
      "cell_type": "code",
      "execution_count": 79,
      "metadata": {
        "colab": {
          "base_uri": "https://localhost:8080/",
          "height": 208
        },
        "id": "JFD0zS6ldfpg",
        "outputId": "091a01f2-3abd-495f-fded-2fd3ac2b9ea7"
      },
      "outputs": [
        {
          "name": "stdout",
          "output_type": "stream",
          "text": [
            "Hb(Haemoglobin) gm/dl M:13-18, F:11-16, Infant:14-20 15.0\n",
            "TC (Total Count) Erythrocytes 5.3 millions / cu.mm 4.5-5.5\n",
            "Leukocytes 8700 Cell/c.mm 4000-11000\n",
            "DC (Differential Count) Neutrophils 62 % 40-75\n",
            "Lymphocytes 34 20-45\n",
            "Monocytes 02 % 1-6\n",
            "Eosinophils 02 1-8\n",
            "Basophils 00 % 0-1\n",
            "ESR (Erythrocyte Sedimentation Rate) 1st Hr. (Westegren Method) 10 mm 0-15\n",
            "MP (Malaria Parasites) Thick & Thin NOT FOUND \n",
            "\n"
          ]
        }
      ],
      "source": [
        "def data_extract(text):\n",
        "  response = model.generate_content(f\"Extract just the medical results of the patient from {text} and return it as simple text\")\n",
        "  return response.text\n",
        "\n",
        "extracted=data_extract(res)\n",
        "print(extracted)"
      ]
    },
    {
      "cell_type": "code",
      "execution_count": 80,
      "metadata": {
        "colab": {
          "base_uri": "https://localhost:8080/",
          "height": 332
        },
        "id": "OxrR4vRUqeMZ",
        "outputId": "761127cf-b0b5-45dc-b5ff-66ecdd3d17fc"
      },
      "outputs": [
        {
          "name": "stdout",
          "output_type": "stream",
          "text": [
            "Drive already mounted at /content/drive; to attempt to forcibly remount, call drive.mount(\"/content/drive\", force_remount=True).\n",
            "```\n",
            "Hb(Haemoglobin) gm/dl M:13-18, F:11-16, Infant:14-20\n",
            "15.0\n",
            "TC (Total Count)\n",
            "Erythrocytes 5.3 millions / cu.mm 4.5-5.5\n",
            "Leukocytes 8700 Cell/c.mm 4000-11000\n",
            "DC (Differential Count)\n",
            "Neutrophils 62 % 40-75\n",
            "Lymphocytes 34 20-45\n",
            "Monocytes 02 % 1-6\n",
            "Eosinophils 02 1-8\n",
            "Basophils 00 % 0-1\n",
            "ESR (Erythrocyte Sedimentation Rate)\n",
            "1st Hr. (Westegren Method) 10 mm 0-15\n",
            "MP (Malaria Parasites) Thick & Thin NOT FOUND\n",
            "```\n"
          ]
        }
      ],
      "source": [
        "def anonymise(pdf_file_path):\n",
        "  raw_text=extract_pdf_data(pdf_file_path)\n",
        "  extracted= data_extract(raw_text)\n",
        "  redacted= redact_sensitive_data(extracted)\n",
        "  return extracted\n",
        "\n",
        "drive.mount('/content/drive')\n",
        "\n",
        "# Path to your PDF file\n",
        "pdf_file = '/content/drive/My Drive/report1.pdf'\n",
        "text = anonymise(pdf_file)\n",
        "print(text)"
      ]
    },
    {
      "cell_type": "code",
      "execution_count": null,
      "metadata": {
        "id": "Gh8-50TWuSeT"
      },
      "outputs": [],
      "source": [
        "def write_to_text_file(data, file_path):\n",
        "    with open(file_path, 'w') as file:\n",
        "        file.write(data)\n",
        "\n",
        "# Path to the output text file\n",
        "output_file_path = '/content/drive/My Drive/medical_report.txt'\n",
        "\n",
        "# Call the function to write the data to the file\n",
        "write_to_text_file(medical_data, output_file_path)\n",
        "\n",
        "print(f\"Data written to {output_file_path}\")\n"
      ]
    }
  ],
  "metadata": {
    "colab": {
      "provenance": []
    },
    "kernelspec": {
      "display_name": "Python 3",
      "name": "python3"
    },
    "language_info": {
      "name": "python"
    }
  },
  "nbformat": 4,
  "nbformat_minor": 0
}
